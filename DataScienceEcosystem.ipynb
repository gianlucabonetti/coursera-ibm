{
  "metadata": {
    "kernelspec": {
      "name": "python",
      "display_name": "Python (Pyodide)",
      "language": "python"
    },
    "language_info": {
      "codemirror_mode": {
        "name": "python",
        "version": 3
      },
      "file_extension": ".py",
      "mimetype": "text/x-python",
      "name": "python",
      "nbconvert_exporter": "python",
      "pygments_lexer": "ipython3",
      "version": "3.8"
    }
  },
  "nbformat_minor": 5,
  "nbformat": 4,
  "cells": [
    {
      "id": "f94ee6fe-b921-446c-a686-fe95657a3dbc",
      "cell_type": "markdown",
      "source": "# Data Science Tools and Ecosystem",
      "metadata": {}
    },
    {
      "id": "22d6bdde-368d-47e0-8401-9d83571041b2",
      "cell_type": "markdown",
      "source": "## Author\nGianluca",
      "metadata": {}
    },
    {
      "id": "e1d5df07-0c70-475c-974e-54cf87d5b49e",
      "cell_type": "markdown",
      "source": "In this notebook, Data Science Tools and Ecosystem are summarized.",
      "metadata": {}
    },
    {
      "id": "b240511b-25b3-4824-b81a-66cd90eb6208",
      "cell_type": "markdown",
      "source": "**Objectives:**\n* List popular languages for Data Science\n* List libraries used by Data Scientists\n* List Data Science Tools\n* Evaluate arithmetic expressions in Python",
      "metadata": {}
    },
    {
      "id": "0e935ae9-e9a0-48d6-9a73-3039ed2e15f2",
      "cell_type": "markdown",
      "source": "Some of the popular languages that Data Scientists use are:\n1. Python\n2. R\n3. Scala\n4. Julia",
      "metadata": {}
    },
    {
      "id": "042f5e2b-ed15-4de2-8854-a5a75dc03f8c",
      "cell_type": "markdown",
      "source": "Some of the commonly used libraries used by Data Scientists include:\n1. Pandas\n2. NumPy\n3. Matplotlib\n4. Seaborn",
      "metadata": {}
    },
    {
      "id": "e4d18106-cc40-4a09-9469-da8cb77d26eb",
      "cell_type": "markdown",
      "source": "| Data Science Tools            |\n|-------------------------------|\n| JupyterLab / Jupyter Notebook |\n| RStudio                       |\n| Spyder                        |",
      "metadata": {}
    },
    {
      "id": "d2b1f643-7469-4df4-8ace-5839e7f44a92",
      "cell_type": "markdown",
      "source": "### Below are a few examples of evaluating arithmetic expressions in Python.",
      "metadata": {}
    },
    {
      "id": "cd4704e7-b646-4cdc-88e7-22a2dc46cae6",
      "cell_type": "code",
      "source": "# This a simple arithmetic expression to mutiply then add integers\n\n(3*4)+5",
      "metadata": {
        "trusted": true
      },
      "outputs": [
        {
          "execution_count": 1,
          "output_type": "execute_result",
          "data": {
            "text/plain": "17"
          },
          "metadata": {}
        }
      ],
      "execution_count": 1
    },
    {
      "id": "70a6ad9d-8486-4706-a091-12ba5d2c1d04",
      "cell_type": "code",
      "source": "# This will convert 200 minutes to hours by diving by 60.\n\nminutes = 200\nhours   = minutes / 60\nhours",
      "metadata": {
        "trusted": true
      },
      "outputs": [
        {
          "execution_count": 2,
          "output_type": "execute_result",
          "data": {
            "text/plain": "3.3333333333333335"
          },
          "metadata": {}
        }
      ],
      "execution_count": 2
    }
  ]
}